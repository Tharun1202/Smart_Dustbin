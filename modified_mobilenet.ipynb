{
  "cells": [
    {
      "cell_type": "code",
      "execution_count": null,
      "metadata": {
        "colab": {
          "base_uri": "https://localhost:8080/"
        },
        "id": "_8fU30gy0om-",
        "outputId": "2c266fc9-3332-44f9-d72c-e0b15dfbd1ac"
      },
      "outputs": [
        {
          "name": "stdout",
          "output_type": "stream",
          "text": [
            "Drive already mounted at /content/drive; to attempt to forcibly remount, call drive.mount(\"/content/drive\", force_remount=True).\n"
          ]
        }
      ],
      "source": [
        "import tensorflow as tf\n",
        "import matplotlib.pyplot as plt\n",
        "import numpy as np\n",
        "import keras\n",
        "import tensorflow as tf\n",
        "import tensorflow_datasets as tfds\n",
        "import tensorflow_hub as hub\n",
        "from google.colab import drive\n",
        "drive.mount('/content/drive')"
      ]
    },
    {
      "cell_type": "code",
      "execution_count": null,
      "metadata": {
        "id": "pEd-9Wpf2VHi"
      },
      "outputs": [],
      "source": [
        "data_root = ('/content/drive/MyDrive/wastetrail1')"
      ]
    },
    {
      "cell_type": "code",
      "execution_count": null,
      "metadata": {
        "id": "_h65Jg402taK"
      },
      "outputs": [],
      "source": [
        "IMAGE_SHAPE = (224, 224)"
      ]
    },
    {
      "cell_type": "code",
      "execution_count": null,
      "metadata": {
        "id": "hQEzTDmW2uuu"
      },
      "outputs": [],
      "source": [
        "TRAINING_DATA_DIR = str(data_root)"
      ]
    },
    {
      "cell_type": "code",
      "execution_count": null,
      "metadata": {
        "id": "IbHzHHJX26ba"
      },
      "outputs": [],
      "source": [
        "datagen_kwargs = dict(rescale=1./255, validation_split=.20)"
      ]
    },
    {
      "cell_type": "code",
      "execution_count": null,
      "metadata": {
        "colab": {
          "base_uri": "https://localhost:8080/"
        },
        "id": "kRsF2EFs3lRh",
        "outputId": "803b6d35-00b2-4cff-beb5-0a9648598d06"
      },
      "outputs": [
        {
          "name": "stdout",
          "output_type": "stream",
          "text": [
            "Found 6361 images belonging to 3 classes.\n",
            "Found 25446 images belonging to 3 classes.\n"
          ]
        }
      ],
      "source": [
        "valid_datagen = tf.keras.preprocessing.image.ImageDataGenerator(**datagen_kwargs)\n",
        "valid_generator = valid_datagen.flow_from_directory(\n",
        "TRAINING_DATA_DIR,\n",
        "subset = \"validation\",\n",
        "shuffle=True,\n",
        "target_size=IMAGE_SHAPE\n",
        ")\n",
        "train_datagen = tf.keras.preprocessing.image.ImageDataGenerator(**datagen_kwargs)\n",
        "train_generator = train_datagen.flow_from_directory(\n",
        "TRAINING_DATA_DIR,\n",
        "subset=\"training\",\n",
        "shuffle=True,\n",
        "target_size=IMAGE_SHAPE)"
      ]
    },
    {
      "cell_type": "code",
      "execution_count": null,
      "metadata": {
        "colab": {
          "base_uri": "https://localhost:8080/"
        },
        "id": "nJsLpUFO3uq_",
        "outputId": "20a5dc03-5f0c-4ff9-bc0b-50f03aca37da"
      },
      "outputs": [
        {
          "name": "stdout",
          "output_type": "stream",
          "text": [
            "{'bios': 0, 'ewastes': 1, 'nonbios': 2}\n"
          ]
        }
      ],
      "source": [
        "print (train_generator.class_indices)"
      ]
    },
    {
      "cell_type": "code",
      "execution_count": null,
      "metadata": {
        "colab": {
          "base_uri": "https://localhost:8080/"
        },
        "id": "I_kLHF2Z6K-m",
        "outputId": "695323bb-2cdf-4249-ebb7-08205b352cf1"
      },
      "outputs": [
        {
          "name": "stdout",
          "output_type": "stream",
          "text": [
            "Model: \"sequential_1\"\n",
            "_________________________________________________________________\n",
            " Layer (type)                Output Shape              Param #   \n",
            "=================================================================\n",
            " keras_layer_1 (KerasLayer)  (None, 1280)              2257984   \n",
            "                                                                 \n",
            " dropout_1 (Dropout)         (None, 1280)              0         \n",
            "                                                                 \n",
            " dense_2 (Dense)             (None, 1024)              1311744   \n",
            "                                                                 \n",
            " dense_3 (Dense)             (None, 3)                 3075      \n",
            "                                                                 \n",
            "=================================================================\n",
            "Total params: 3572803 (13.63 MB)\n",
            "Trainable params: 1314819 (5.02 MB)\n",
            "Non-trainable params: 2257984 (8.61 MB)\n",
            "_________________________________________________________________\n"
          ]
        }
      ],
      "source": [
        "model = tf.keras.Sequential([\n",
        "    hub.KerasLayer(\"https://tfhub.dev/google/tf2-preview/mobilenet_v2/feature_vector/4\",\n",
        "                    output_shape=[1280],\n",
        "                    trainable=False),\n",
        "    tf.keras.layers.Dropout(0.5),  # Increased dropout rate\n",
        "    tf.keras.layers.Dense(1024, activation='relu', kernel_regularizer=keras.regularizers.l2(0.001)),  # L2 regularization with lambda=0.001\n",
        "    tf.keras.layers.Dense(3, activation='softmax', kernel_regularizer=keras.regularizers.l2(0.001))  # L2 regularization with lambda=0.001\n",
        "])\n",
        "model.build([None, 224, 224, 3])\n",
        "model.summary()\n"
      ]
    },
    {
      "cell_type": "code",
      "execution_count": null,
      "metadata": {
        "id": "6cv5z93amcKZ"
      },
      "outputs": [],
      "source": [
        "model.compile(optimizer='adam',\n",
        "              loss='categorical_crossentropy',\n",
        "              metrics=['accuracy'])"
      ]
    },
    {
      "cell_type": "code",
      "execution_count": null,
      "metadata": {
        "id": "i3iRYiqu6s1o"
      },
      "outputs": [],
      "source": [
        "# Early stopping callback\n",
        "early_stopping = tf.keras.callbacks.EarlyStopping(monitor='val_loss', patience=3)"
      ]
    },
    {
      "cell_type": "code",
      "execution_count": null,
      "metadata": {
        "colab": {
          "base_uri": "https://localhost:8080/"
        },
        "id": "EAo8Mkex8jTO",
        "outputId": "d3dcc568-1131-4976-971d-732cca3771d6"
      },
      "outputs": [
        {
          "name": "stdout",
          "output_type": "stream",
          "text": [
            "Epoch 1/10\n",
            "796/796 [==============================] - ETA: 0s - loss: 0.8276 - accuracy: 0.9057"
          ]
        },
        {
          "name": "stderr",
          "output_type": "stream",
          "text": [
            "/usr/local/lib/python3.10/dist-packages/PIL/Image.py:996: UserWarning: Palette images with Transparency expressed in bytes should be converted to RGBA images\n",
            "  warnings.warn(\n"
          ]
        },
        {
          "name": "stdout",
          "output_type": "stream",
          "text": [
            "\b\b\b\b\b\b\b\b\b\b\b\b\b\b\b\b\b\b\b\b\b\b\b\b\b\b\b\b\b\b\b\b\b\b\b\b\b\b\b\b\b\b\b\b\b\b\b\b\b\b\b\b\b\b\b\b\b\b\b\b\b\b\b\b\b\b\b\b\b\b\b\b\b\b\b\b\b\b\b\b\b\b\b\b\r796/796 [==============================] - 4711s 6s/step - loss: 0.8276 - accuracy: 0.9057 - val_loss: 0.4882 - val_accuracy: 0.9126\n",
            "Epoch 2/10\n",
            "796/796 [==============================] - 1153s 1s/step - loss: 0.3965 - accuracy: 0.9317 - val_loss: 0.3403 - val_accuracy: 0.9351\n",
            "Epoch 3/10\n",
            "796/796 [==============================] - 1149s 1s/step - loss: 0.3305 - accuracy: 0.9374 - val_loss: 0.3653 - val_accuracy: 0.9123\n",
            "Epoch 4/10\n",
            "796/796 [==============================] - 1174s 1s/step - loss: 0.2933 - accuracy: 0.9423 - val_loss: 0.3093 - val_accuracy: 0.9286\n",
            "Epoch 5/10\n",
            "796/796 [==============================] - 1113s 1s/step - loss: 0.2675 - accuracy: 0.9462 - val_loss: 0.3460 - val_accuracy: 0.9065\n",
            "Epoch 6/10\n",
            "796/796 [==============================] - 1122s 1s/step - loss: 0.2527 - accuracy: 0.9481 - val_loss: 0.3357 - val_accuracy: 0.9069\n",
            "Epoch 7/10\n",
            "796/796 [==============================] - 1157s 1s/step - loss: 0.2386 - accuracy: 0.9513 - val_loss: 0.3039 - val_accuracy: 0.9241\n",
            "Epoch 8/10\n",
            "796/796 [==============================] - 1097s 1s/step - loss: 0.2271 - accuracy: 0.9537 - val_loss: 0.2909 - val_accuracy: 0.9241\n",
            "Epoch 9/10\n",
            "796/796 [==============================] - 1060s 1s/step - loss: 0.2211 - accuracy: 0.9543 - val_loss: 0.3590 - val_accuracy: 0.9027\n",
            "Epoch 10/10\n",
            "796/796 [==============================] - 1058s 1s/step - loss: 0.2149 - accuracy: 0.9552 - val_loss: 0.3085 - val_accuracy: 0.9179\n"
          ]
        }
      ],
      "source": [
        "steps_per_epoch = np.ceil(train_generator.samples/train_generator.batch_size)\n",
        "val_steps_per_epoch = np.ceil(valid_generator.samples/valid_generator.batch_size)\n",
        "hist = model.fit(\n",
        " train_generator,\n",
        " epochs=10,\n",
        " verbose=1,\n",
        " steps_per_epoch=steps_per_epoch,\n",
        " validation_data=valid_generator,\n",
        " validation_steps=val_steps_per_epoch,callbacks=[early_stopping]).history"
      ]
    },
    {
      "cell_type": "code",
      "execution_count": null,
      "metadata": {
        "colab": {
          "base_uri": "https://localhost:8080/"
        },
        "id": "uI2wRBtUdBOx",
        "outputId": "bc2db66c-8016-43e8-ea27-6c1ffb9cacec"
      },
      "outputs": [
        {
          "name": "stdout",
          "output_type": "stream",
          "text": [
            "199/199 [==============================] - 224s 1s/step - loss: 0.3085 - accuracy: 0.9179\n",
            "Final loss: 0.31\n",
            "Final accuracy: 91.79%\n"
          ]
        }
      ],
      "source": [
        "final_loss, final_accuracy = model.evaluate(valid_generator, steps = val_steps_per_epoch)\n",
        "print(\"Final loss: {:.2f}\".format(final_loss))\n",
        "print(\"Final accuracy: {:.2f}%\".format(final_accuracy * 100))"
      ]
    },
    {
      "cell_type": "code",
      "execution_count": null,
      "metadata": {
        "colab": {
          "base_uri": "https://localhost:8080/"
        },
        "id": "3wTextm-gQTK",
        "outputId": "f4930ec9-841e-45ed-ca9f-9639d6388ed7"
      },
      "outputs": [
        {
          "name": "stdout",
          "output_type": "stream",
          "text": [
            "{'loss': [0.8276188969612122, 0.39651235938072205, 0.3305078446865082, 0.293335884809494, 0.2675117552280426, 0.252747505903244, 0.2385748028755188, 0.2271425426006317, 0.22113433480262756, 0.21486060321331024], 'accuracy': [0.9056826233863831, 0.9316592216491699, 0.9374361634254456, 0.9422699213027954, 0.9462391138076782, 0.948125422000885, 0.9512693285942078, 0.9536665678024292, 0.9542560577392578, 0.9551599621772766], 'val_loss': [0.48820871114730835, 0.34025493264198303, 0.3652859628200531, 0.30931949615478516, 0.3459521532058716, 0.3356861472129822, 0.30387356877326965, 0.290901780128479, 0.3589983284473419, 0.3085443377494812], 'val_accuracy': [0.912592351436615, 0.9350730776786804, 0.9122779369354248, 0.9286275506019592, 0.906461238861084, 0.9069328904151917, 0.9240685701370239, 0.9240685701370239, 0.9026882648468018, 0.9179374575614929]}\n"
          ]
        }
      ],
      "source": [
        "print(hist)"
      ]
    },
    {
      "cell_type": "code",
      "execution_count": null,
      "metadata": {
        "colab": {
          "base_uri": "https://localhost:8080/",
          "height": 478
        },
        "id": "J9XNlg89g55I",
        "outputId": "3f364ebf-fb59-4f95-d3df-78ad884d4156"
      },
      "outputs": [
        {
          "data": {
            "image/png": "[encoded data removed]",
            "text/plain": [
              "<Figure size 640x480 with 1 Axes>"
            ]
          },
          "metadata": {},
          "output_type": "display_data"
        }
      ],
      "source": [
        "fig = plt.figure()\n",
        "plt.plot(hist[\"loss\"], color=\"teal\", label=\"loss\")\n",
        "plt.plot(hist[\"val_loss\"], color=\"orange\", label=\"val_loss\")\n",
        "fig.suptitle(\"Loss\", fontsize=20)\n",
        "plt.legend(loc=\"upper left\")\n",
        "plt.show()"
      ]
    },
    {
      "cell_type": "code",
      "execution_count": null,
      "metadata": {
        "colab": {
          "base_uri": "https://localhost:8080/",
          "height": 478
        },
        "id": "YIdlgkBRiDrB",
        "outputId": "562a737f-4bb6-4b6b-a0a6-2f137fbb793e"
      },
      "outputs": [
        {
          "data": {
            "image/png": "[encoded data removed]",
            "text/plain": [
              "<Figure size 640x480 with 1 Axes>"
            ]
          },
          "metadata": {},
          "output_type": "display_data"
        }
      ],
      "source": [
        "fig = plt.figure()\n",
        "plt.plot(hist[\"accuracy\"], color=\"teal\", label=\"accuracy\")\n",
        "plt.plot(hist[\"val_accuracy\"], color=\"orange\", label=\"val_accuracy\")\n",
        "fig.suptitle(\"accuracy\", fontsize=20)\n",
        "plt.legend(loc=\"upper left\")\n",
        "plt.show()"
      ]
    },
    {
      "cell_type": "code",
      "execution_count": null,
      "metadata": {
        "colab": {
          "base_uri": "https://localhost:8080/"
        },
        "id": "xXQCbjcEeC_m",
        "outputId": "309590e6-8353-422f-efa6-cda2df5738be"
      },
      "outputs": [
        {
          "name": "stderr",
          "output_type": "stream",
          "text": [
            "/usr/local/lib/python3.10/dist-packages/keras/src/engine/training.py:3103: UserWarning: You are saving your model as an HDF5 file via `model.save()`. This file format is considered legacy. We recommend using instead the native Keras format, e.g. `model.save('my_model.keras')`.\n",
            "  saving_api.save_model(\n"
          ]
        }
      ],
      "source": [
        "model.save('WASTE_CLASSIFIER.h5')"
      ]
    },
    {
      "cell_type": "code",
      "execution_count": null,
      "metadata": {
        "id": "U9nTj7DRHOyJ"
      },
      "outputs": [],
      "source": [
        "# Save the weights\n",
        "model.save_weights('WASTECLASSIFIER_save_weights.h5')\n"
      ]
    }
  ],
  "metadata": {
    "colab": {
      "provenance": []
    },
    "kernelspec": {
      "display_name": "Python 3",
      "name": "python3"
    },
    "language_info": {
      "name": "python"
    }
  },
  "nbformat": 4,
  "nbformat_minor": 0
}
